{
 "cells": [
  {
   "cell_type": "markdown",
   "metadata": {},
   "source": [
    "#### Stack tests for Pypi \n",
    "\n",
    "In this notebook, we will look at how the model behaves when it is replaced by different set of packages. We will explore results of two models\n",
    "\n",
    "1. Model Trained with Transitives\n",
    "2. Model Trained without Transitives"
   ]
  },
  {
   "cell_type": "code",
   "execution_count": 23,
   "metadata": {},
   "outputs": [],
   "source": [
    "# Let's load the model and the relevant dictionaries\n",
    "\n",
    "import pickle\n",
    "import json\n",
    "\n",
    "with open('HPF_model.pkl', 'rb') as f:\n",
    "    model = pickle.load(f)"
   ]
  },
  {
   "cell_type": "code",
   "execution_count": 2,
   "metadata": {},
   "outputs": [],
   "source": [
    "with open('manifest-to-id.pickle', 'rb') as f:\n",
    "    manifest_to_id_dict = pickle.load(f)"
   ]
  },
  {
   "cell_type": "code",
   "execution_count": 3,
   "metadata": {},
   "outputs": [],
   "source": [
    "with open('package-to-id-dict.json', 'r') as f:\n",
    "    package_to_id_dict = json.load(f)"
   ]
  },
  {
   "cell_type": "code",
   "execution_count": 4,
   "metadata": {},
   "outputs": [],
   "source": [
    "with open('id-to-package-dict.json', 'r') as f:\n",
    "    id_to_package_dict = json.load(f)"
   ]
  },
  {
   "cell_type": "markdown",
   "metadata": {},
   "source": [
    "#### Experiment Set 1 - Model With Transitives"
   ]
  },
  {
   "cell_type": "markdown",
   "metadata": {},
   "source": [
    "We will run the experiment for a data science persona. We will use stacks which have tensorflow, numpy, scipy, keras in them."
   ]
  },
  {
   "cell_type": "code",
   "execution_count": 17,
   "metadata": {},
   "outputs": [
    {
     "name": "stdout",
     "output_type": "stream",
     "text": [
      "188\n"
     ]
    }
   ],
   "source": [
    "# Let's get started\n",
    "count = 0\n",
    "l = []\n",
    "for item in manifest_to_id_dict.items():\n",
    "    if 'tensorflow' in item[0] and 'scipy' in item[0] and 'numpy' in item[0] and 'keras' in item[0]:\n",
    "        count+=1\n",
    "        l.append(item[0])\n",
    "print(count)"
   ]
  },
  {
   "cell_type": "markdown",
   "metadata": {},
   "source": [
    "As we can see, there are 188 users which have the combination"
   ]
  },
  {
   "cell_type": "code",
   "execution_count": 19,
   "metadata": {},
   "outputs": [
    {
     "name": "stdout",
     "output_type": "stream",
     "text": [
      "[frozenset({'atari-py', 'codacy-coverage', 'pyopengl', 'pillow', 'keras', 'numpy', 'h5py', 'tensorflow', 'pytest-xdist', 'scipy', 'glances', 'pandas', 'mem-top', 'pytest-cov', 'gym', 'six', 'matplotlib', 'seaborn'}), frozenset({'pillow', 'keras', 'numpy', 'bleach', 'jupyter', 'tensorflow', 'jupyter-tensorboard', 'numexpr', 'scipy', 'nltk', 'nbdime', 'jupyter-contrib-nbextensions', 'pandas', 'scikit-learn', 'imageio', 'urlextract', 'matplotlib', 'scikit-image'}), frozenset({'h5py', 'scipy', 'html5lib', 'futures', 'graphviz', 'pydot', 'keras', 'mock', 'bleach', 'tensorflow', 'pyparsing', 'pbr', 'markdown', 'protobuf', 'werkzeug', 'enum34', 'tensorflow-tensorboard', 'funcsigs', 'pyyaml', 'six', 'numpy', 'backports-weakref'}), frozenset({'packaging', 'jinja2', 'h5py', 'markupsafe', 'itsdangerous', 'scipy', 'click', 'keras', 'mock', 'tensorflow', 'nltk', 'pyparsing', 'theano', 'pbr', 'protobuf', 'flask', 'werkzeug', 'pyyaml', 'funcsigs', 'six', 'tqdm', 'numpy', 'gunicorn', 'appdirs'}), frozenset({'requests', 'pulp', 'h5py', 'scipy', 'dawg', 'wheel', 'keras', 'tensorflow', 'slybot', 'cython', 'scikit-learn', 'scrapely', 'ete2', 'joblib', 'eli5', 'protobuf', 'sklearn-crfsuite', 'six', 'matplotlib', 'networkx', 'tqdm', 'numpy', 'pathlib2', 'pandas'}), frozenset({'ipython', 'keras', 'numpy', 'h5py', 'oct2py', 'tensorflow', 'scipy', 'six'}), frozenset({'termcolor', 'markdown', 'protobuf', 'keras', 'numpy', 'bleach', 'tensorboard', 'tensorflow', 'absl-py', 'astor', 'scipy', 'html5lib', 'werkzeug', 'pyyaml', 'gast', 'six', 'grpcio', 'wheel'}), frozenset({'packaging', 'jinja2', 'h5py', 'markupsafe', 'itsdangerous', 'scipy', 'click', 'keras', 'mock', 'tensorflow', 'pyparsing', 'theano', 'pbr', 'protobuf', 'zmq', 'flask', 'werkzeug', 'pyyaml', 'funcsigs', 'six', 'numpy', 'appdirs', 'pyzmq'}), frozenset({'jupyter-core', 'singledispatch', 'certifi', 'scipy', 'ipywidgets', 'pytz', 'nose', 'sklearn', 'python-dateutil', 'filelock', 'leveldb', 'librosa', 'tensorflow', 'nltk', 'skdata', 'lasagne', 'pyenchant', 'jupyter-console', 'notebook', 'resampy', 'pyosc', 'python-gflags', 'pexpect', 'pyyaml', 'cycler', 'pathlib2', 'jsonschema', 'jinja2', 'h5py', 'joblib', 'pbr', 'pickleshare', 'pygments', 'widgetsnbextension', 'flask', 'tornado', 'grammar-check', 'ipython', 'pyzmq', 'entrypoints', 'chainer', 'itsdangerous', 'markupsafe', 'attrdict', 'ptyprocess', 'scikit-image', 'decorator', 'mock', 'cython', 'toolz', 'qtconsole', 'theano', 'nbformat', 'terminado', 'jupyter-client', 'dask', 'prompt-toolkit', 'configparser', 'werkzeug', 'functools32', 'matplotlib', 'numpy', 'markovify', 'wcwidth', 'pandas', 'nbconvert', 'mistune', 'unidecode', 'click', 'audioread', 'backports-shutil-get-terminal-size', 'ipython-genutils', 'traitlets', 'keras', 'display', 'scikit-learn', 'pyparsing', 'simplegeneric', 'pillow', 'protobuf', 'jupyter', 'funcsigs', 'six', 'networkx', 'backports-abc', 'ipykernel', 'textblob', 'lockfile'}), frozenset({'olefile', 'pbr', 'jinja2', 'pillow', 'protobuf', 'keras', 'numpy', 'opencv-python', 'h5py', 'tensorflow', 'markupsafe', 'flask', 'scipy', 'itsdangerous', 'scikit-learn', 'pyyaml', 'gunicorn', 'funcsigs', 'click', 'six'})]\n"
     ]
    }
   ],
   "source": [
    "# Let's see which users have that\n",
    "x = l[:10]\n",
    "print(x)"
   ]
  },
  {
   "cell_type": "code",
   "execution_count": 14,
   "metadata": {},
   "outputs": [],
   "source": [
    "def map_input_to_package_ids(input_stack):\n",
    "    package_id_list = list()\n",
    "    for package in input_stack:\n",
    "        package_id = package_to_id_dict.get(package)\n",
    "        if package_id is not None:\n",
    "            package_id_list.append(package_id)\n",
    "    return package_id_list"
   ]
  },
  {
   "cell_type": "code",
   "execution_count": 15,
   "metadata": {},
   "outputs": [],
   "source": [
    "def get_packages_from_id(package_ids):\n",
    "    package_list = list()\n",
    "    for i in package_ids:\n",
    "        package = id_to_package_dict.get(str(i))\n",
    "        package_list.append(package)\n",
    "    return package_list"
   ]
  },
  {
   "cell_type": "code",
   "execution_count": 33,
   "metadata": {},
   "outputs": [
    {
     "name": "stdout",
     "output_type": "stream",
     "text": [
      "Stack is:  frozenset({'atari-py', 'codacy-coverage', 'pyopengl', 'pillow', 'keras', 'numpy', 'h5py', 'tensorflow', 'pytest-xdist', 'scipy', 'glances', 'pandas', 'mem-top', 'pytest-cov', 'gym', 'six', 'matplotlib', 'seaborn'})\n",
      "========================================\n",
      "Recommendations are:  {'python-dateutil', 'nltk', 'scikit-learn', 'cython', 'pyparsing', 'pytest', 'pytz'}\n",
      "========================================\n",
      "Stack is:  frozenset({'pillow', 'keras', 'numpy', 'bleach', 'jupyter', 'tensorflow', 'jupyter-tensorboard', 'numexpr', 'scipy', 'nltk', 'nbdime', 'jupyter-contrib-nbextensions', 'pandas', 'scikit-learn', 'imageio', 'urlextract', 'matplotlib', 'scikit-image'})\n",
      "========================================\n",
      "Recommendations are:  {'python-dateutil', 'tqdm', 'h5py', 'cython', 'pyparsing', 'six', 'networkx', 'pytz'}\n",
      "========================================\n",
      "Stack is:  frozenset({'h5py', 'scipy', 'html5lib', 'futures', 'graphviz', 'pydot', 'keras', 'mock', 'bleach', 'tensorflow', 'pyparsing', 'pbr', 'markdown', 'protobuf', 'werkzeug', 'enum34', 'tensorflow-tensorboard', 'funcsigs', 'pyyaml', 'six', 'numpy', 'backports-weakref'})\n",
      "========================================\n",
      "Recommendations are:  {'matplotlib', 'jinja2', 'python-dateutil', 'pillow', 'flask', 'scikit-learn', 'pandas', 'urllib3', 'pytz', 'nose'}\n",
      "========================================\n",
      "Stack is:  frozenset({'packaging', 'jinja2', 'h5py', 'markupsafe', 'itsdangerous', 'scipy', 'click', 'keras', 'mock', 'tensorflow', 'nltk', 'pyparsing', 'theano', 'pbr', 'protobuf', 'flask', 'werkzeug', 'pyyaml', 'funcsigs', 'six', 'tqdm', 'numpy', 'gunicorn', 'appdirs'})\n",
      "========================================\n",
      "Recommendations are:  {'python-dateutil', 'sqlalchemy', 'flask-sqlalchemy', 'scikit-learn', 'pandas', 'matplotlib', 'pytz', 'nose'}\n",
      "========================================\n",
      "Stack is:  frozenset({'requests', 'pulp', 'h5py', 'scipy', 'dawg', 'wheel', 'keras', 'tensorflow', 'slybot', 'cython', 'scikit-learn', 'scrapely', 'ete2', 'joblib', 'eli5', 'protobuf', 'sklearn-crfsuite', 'six', 'matplotlib', 'networkx', 'tqdm', 'numpy', 'pathlib2', 'pandas'})\n",
      "========================================\n",
      "Recommendations are:  {'pytz', 'python-dateutil', 'pillow', 'sphinx', 'cycler', 'nltk', 'pyparsing', 'seaborn'}\n",
      "========================================\n",
      "Stack is:  frozenset({'ipython', 'keras', 'numpy', 'h5py', 'oct2py', 'tensorflow', 'scipy', 'six'})\n",
      "========================================\n",
      "Recommendations are:  {'requests', 'python-dateutil', 'pillow', 'nltk', 'scikit-learn', 'pandas', 'pyparsing', 'matplotlib', 'pytz'}\n",
      "========================================\n",
      "Stack is:  frozenset({'termcolor', 'markdown', 'protobuf', 'keras', 'numpy', 'bleach', 'tensorboard', 'tensorflow', 'absl-py', 'astor', 'scipy', 'html5lib', 'werkzeug', 'pyyaml', 'gast', 'six', 'grpcio', 'wheel'})\n",
      "========================================\n",
      "Recommendations are:  {'jinja2', 'python-dateutil', 'pillow', 'flask', 'nltk', 'scikit-learn', 'pandas', 'pyparsing', 'matplotlib', 'pytz'}\n",
      "========================================\n",
      "Stack is:  frozenset({'packaging', 'jinja2', 'h5py', 'markupsafe', 'itsdangerous', 'scipy', 'click', 'keras', 'mock', 'tensorflow', 'pyparsing', 'theano', 'pbr', 'protobuf', 'zmq', 'flask', 'werkzeug', 'pyyaml', 'funcsigs', 'six', 'numpy', 'appdirs', 'pyzmq'})\n",
      "========================================\n",
      "Recommendations are:  {'python-dateutil', 'sqlalchemy', 'scikit-learn', 'pandas', 'gunicorn', 'matplotlib', 'pytz', 'nose'}\n",
      "========================================\n",
      "Stack is:  frozenset({'jupyter-core', 'singledispatch', 'certifi', 'scipy', 'ipywidgets', 'pytz', 'nose', 'sklearn', 'python-dateutil', 'filelock', 'leveldb', 'librosa', 'tensorflow', 'nltk', 'skdata', 'lasagne', 'pyenchant', 'jupyter-console', 'notebook', 'resampy', 'pyosc', 'python-gflags', 'pexpect', 'pyyaml', 'cycler', 'pathlib2', 'jsonschema', 'jinja2', 'h5py', 'joblib', 'pbr', 'pickleshare', 'pygments', 'widgetsnbextension', 'flask', 'tornado', 'grammar-check', 'ipython', 'pyzmq', 'entrypoints', 'chainer', 'itsdangerous', 'markupsafe', 'attrdict', 'ptyprocess', 'scikit-image', 'decorator', 'mock', 'cython', 'toolz', 'qtconsole', 'theano', 'nbformat', 'terminado', 'jupyter-client', 'dask', 'prompt-toolkit', 'configparser', 'werkzeug', 'functools32', 'matplotlib', 'numpy', 'markovify', 'wcwidth', 'pandas', 'nbconvert', 'mistune', 'unidecode', 'click', 'audioread', 'backports-shutil-get-terminal-size', 'ipython-genutils', 'traitlets', 'keras', 'display', 'scikit-learn', 'pyparsing', 'simplegeneric', 'pillow', 'protobuf', 'jupyter', 'funcsigs', 'six', 'networkx', 'backports-abc', 'ipykernel', 'textblob', 'lockfile'})\n",
      "========================================\n",
      "Recommendations are:  {'docutils', 'tqdm'}\n",
      "========================================\n",
      "Stack is:  frozenset({'olefile', 'pbr', 'jinja2', 'pillow', 'protobuf', 'keras', 'numpy', 'opencv-python', 'h5py', 'tensorflow', 'markupsafe', 'flask', 'scipy', 'itsdangerous', 'scikit-learn', 'pyyaml', 'gunicorn', 'funcsigs', 'click', 'six'})\n",
      "========================================\n",
      "Recommendations are:  {'python-dateutil', 'nltk', 'werkzeug', 'cython', 'pandas', 'pyparsing', 'matplotlib', 'pytz'}\n",
      "========================================\n"
     ]
    }
   ],
   "source": [
    "# Let's get top 10 recommendations for our 10 users\n",
    "\n",
    "for stack in x:\n",
    "    # First get the id for the stack\n",
    "    stack_id = manifest_to_id_dict.get(stack)\n",
    "    print(\"Stack is: \", stack)\n",
    "    recommendations = model.topN(user=stack_id, n=10)\n",
    "    print(\"========================================\")\n",
    "    print(\"Recommendations are: \", set(get_packages_from_id(recommendations)) - set(stack))\n",
    "    print(\"========================================\")"
   ]
  },
  {
   "cell_type": "markdown",
   "metadata": {},
   "source": [
    "As we can see, for most of the stacks the recommendations look very similar (which is good to an extent) but also very generic. Now, also if you observe, some packages like python-dateutil are appearing because of their popularity."
   ]
  },
  {
   "cell_type": "markdown",
   "metadata": {},
   "source": [
    "#### Experiment Set 2 - Model Without Transitives"
   ]
  },
  {
   "cell_type": "markdown",
   "metadata": {},
   "source": [
    "We will run the experiment for a data science persona. We will use stacks which have tensorflow, keras in them."
   ]
  },
  {
   "cell_type": "code",
   "execution_count": 34,
   "metadata": {},
   "outputs": [],
   "source": [
    "# Let's load the model and relevant dictionaries\n",
    "\n",
    "with open('HPF_model_without_trans.pkl', 'rb') as f:\n",
    "    model = pickle.load(f)\n",
    "\n",
    "with open('manifest-to-id-without-trans.pickle', 'rb') as f:\n",
    "    manifest_to_id_dict = pickle.load(f)\n",
    "\n",
    "with open('package-to-id-dict-without-trans.json', 'r') as f:\n",
    "    package_to_id_dict = json.load(f)\n",
    "\n",
    "with open('id-to-package-dict-without-trans.json', 'r') as f:\n",
    "    id_to_package_dict = json.load(f)"
   ]
  },
  {
   "cell_type": "code",
   "execution_count": 36,
   "metadata": {},
   "outputs": [
    {
     "name": "stdout",
     "output_type": "stream",
     "text": [
      "248\n"
     ]
    }
   ],
   "source": [
    "# Let's get started\n",
    "count = 0\n",
    "l = []\n",
    "for item in manifest_to_id_dict.items():\n",
    "    if 'tensorflow' in item[0] and 'keras' in item[0]:\n",
    "        count+=1\n",
    "        l.append(item[0])\n",
    "print(count)"
   ]
  },
  {
   "cell_type": "markdown",
   "metadata": {},
   "source": [
    "As we can see, there are 248 users which have the combination"
   ]
  },
  {
   "cell_type": "code",
   "execution_count": 37,
   "metadata": {},
   "outputs": [
    {
     "name": "stdout",
     "output_type": "stream",
     "text": [
      "[frozenset({'tensorflow', 'lxml', 'keras'}), frozenset({'tensorflow', 'midi', 'keras'}), frozenset({'hdfs3', 'python-resize-image', 'opencv-python', 'tqdm', 'keras', 'tensorflow', 'docopt', 'logger', 'scikit-image'}), frozenset({'dill', 'keras', 'tensorflow', 'scikit-learn', 'matplotlib'}), frozenset({'pymongo', 'pip', 'packaging', 'keras', 'transforms3d', 'tensorflow', 'pykitti', 'unrealcv', 'xxhash'}), frozenset({'sgf', 'tqdm', 'keras', 'pygame', 'tensorflow', 'scikit-learn', 'theano'}), frozenset({'sphinx-gallery', 'pillow', 'ipykernel', 'keras', 'nbsphinx', 'tensorflow', 'scikit-learn', 'cython'}), frozenset({'tensorflow', 'pillow', 'dill', 'keras'}), frozenset({'olefile', 'singledispatch', 'certifi', 'html5lib', 'pytz', 'backports-shutil-get-terminal-size', 'subprocess32', 'keras', 'tensorflow', 'pyparsing', 'simplegeneric', 'theano', 'scandir', 'pbr', 'pillow', 'jupyter', 'jupyter-console', 'werkzeug', 'moviepy', 'imageio', 'matplotlib', 'backports-abc', 'tqdm', 'cycler', 'pathlib2', 'wcwidth'}), frozenset({'tensorflow', 'pillow', 'keras'})]\n"
     ]
    }
   ],
   "source": [
    "# Let's see which users have that\n",
    "x = l[:10]\n",
    "print(x)"
   ]
  },
  {
   "cell_type": "code",
   "execution_count": 38,
   "metadata": {},
   "outputs": [
    {
     "name": "stdout",
     "output_type": "stream",
     "text": [
      "Stack is:  frozenset({'tensorflow', 'lxml', 'keras'})\n",
      "========================================\n",
      "Recommendations are:  {'requests', 'django', 'python-dateutil', 'fabric', 'flask', 'scipy', 'docutils', 'future', 'gunicorn', 'wsgiref'}\n",
      "========================================\n",
      "Stack is:  frozenset({'tensorflow', 'midi', 'keras'})\n",
      "========================================\n",
      "Recommendations are:  {'requests', 'django', 'tqdm', 'flask', 'colorama', 'docutils', 'botocore', 'gunicorn', 'virtualenv', 'networkx'}\n",
      "========================================\n",
      "Stack is:  frozenset({'hdfs3', 'python-resize-image', 'opencv-python', 'tqdm', 'keras', 'tensorflow', 'docopt', 'logger', 'scikit-image'})\n",
      "========================================\n",
      "Recommendations are:  {'requests', 'pygments', 'python-dateutil', 'docutils', 'pyyaml', 'gunicorn', 'psycopg2', 'virtualenv', 'pytz', 'wheel'}\n",
      "========================================\n",
      "Stack is:  frozenset({'dill', 'keras', 'tensorflow', 'scikit-learn', 'matplotlib'})\n",
      "========================================\n",
      "Recommendations are:  {'requests', 'tqdm', 'networkx', 'colorama', 'docutils', 'pyparsing', 'virtualenv', 'pytest', 'tornado', 'nose'}\n",
      "========================================\n",
      "Stack is:  frozenset({'pymongo', 'pip', 'packaging', 'keras', 'transforms3d', 'tensorflow', 'pykitti', 'unrealcv', 'xxhash'})\n",
      "========================================\n",
      "Recommendations are:  {'requests', 'pillow', 'selenium', 'docutils', 'redis', 'gunicorn', 'psycopg2', 'virtualenv', 'networkx', 'seaborn'}\n",
      "========================================\n",
      "Stack is:  frozenset({'sgf', 'tqdm', 'keras', 'pygame', 'tensorflow', 'scikit-learn', 'theano'})\n",
      "========================================\n",
      "Recommendations are:  {'django', 'requests', 'lxml', 'jinja2', 'ipython', 'sqlalchemy', 'pyasn1', 'scipy', 'cffi', 'enum34'}\n",
      "========================================\n",
      "Stack is:  frozenset({'sphinx-gallery', 'pillow', 'ipykernel', 'keras', 'nbsphinx', 'tensorflow', 'scikit-learn', 'cython'})\n",
      "========================================\n",
      "Recommendations are:  {'requests', 'lxml', 'jinja2', 'ipython', 'colorama', 'docutils', 'scipy', 'virtualenv', 'six', 'networkx'}\n",
      "========================================\n",
      "Stack is:  frozenset({'tensorflow', 'pillow', 'dill', 'keras'})\n",
      "========================================\n",
      "Recommendations are:  {'django', 'lxml', 'fabric', 'requests', 'flask', 'scipy', 'docutils', 'future', 'gunicorn', 'six'}\n",
      "========================================\n",
      "Stack is:  frozenset({'olefile', 'singledispatch', 'certifi', 'html5lib', 'pytz', 'backports-shutil-get-terminal-size', 'subprocess32', 'keras', 'tensorflow', 'pyparsing', 'simplegeneric', 'theano', 'scandir', 'pbr', 'pillow', 'jupyter', 'jupyter-console', 'werkzeug', 'moviepy', 'imageio', 'matplotlib', 'backports-abc', 'tqdm', 'cycler', 'pathlib2', 'wcwidth'})\n",
      "========================================\n",
      "Recommendations are:  {'django', 'python-dateutil', 'path-py', 'pylint', 'pyyaml', 'gunicorn', 'psycopg2', 'wheel'}\n",
      "========================================\n",
      "Stack is:  frozenset({'tensorflow', 'pillow', 'keras'})\n",
      "========================================\n",
      "Recommendations are:  {'django', 'tox', 'python-dateutil', 'requests', 'flask', 'docutils', 'gunicorn', 'psycopg2', 'six', 'wsgiref'}\n",
      "========================================\n"
     ]
    }
   ],
   "source": [
    "# Let's get top 10 recommendations for our 10 users\n",
    "\n",
    "for stack in x:\n",
    "    # First get the id for the stack\n",
    "    stack_id = manifest_to_id_dict.get(stack)\n",
    "    print(\"Stack is: \", stack)\n",
    "    recommendations = model.topN(user=stack_id, n=10)\n",
    "    print(\"========================================\")\n",
    "    print(\"Recommendations are: \", set(get_packages_from_id(recommendations)) - set(stack))\n",
    "    print(\"========================================\")"
   ]
  },
  {
   "cell_type": "markdown",
   "metadata": {},
   "source": [
    "In my observation, after removing the transitives from training, the recommendations are becoming more irrelevant. "
   ]
  }
 ],
 "metadata": {
  "kernelspec": {
   "display_name": "Python 3",
   "language": "python",
   "name": "python3"
  },
  "language_info": {
   "codemirror_mode": {
    "name": "ipython",
    "version": 3
   },
   "file_extension": ".py",
   "mimetype": "text/x-python",
   "name": "python",
   "nbconvert_exporter": "python",
   "pygments_lexer": "ipython3",
   "version": "3.6.3"
  }
 },
 "nbformat": 4,
 "nbformat_minor": 2
}
