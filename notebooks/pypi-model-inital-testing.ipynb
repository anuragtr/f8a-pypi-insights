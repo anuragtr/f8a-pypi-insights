{
 "cells": [
  {
   "cell_type": "markdown",
   "metadata": {},
   "source": [
    "## Here we will look at how we can evaluate models for a sub-ecosystem of pypi"
   ]
  },
  {
   "cell_type": "markdown",
   "metadata": {},
   "source": [
    "### The ask is following:\n",
    "\n",
    "1. Come up with a specific set of stacks, for which we can define a tree.\n",
    "2. In this example, we will explore the following tree: Web Developer -> Flask -> Flask Admin -> Multiple children\n",
    "\n",
    "Regarding flask-admin please visit https://github.com/flask-admin/flask-admin"
   ]
  },
  {
   "cell_type": "markdown",
   "metadata": {},
   "source": [
    "#### Step 1\n",
    "\n",
    "Collect a few good examples of stacks which use flask-admin."
   ]
  },
  {
   "cell_type": "code",
   "execution_count": 1,
   "metadata": {},
   "outputs": [],
   "source": [
    "## Here the stack reflects adding a login functionality to an existing flask admin application using sql as a backend\n",
    "\n",
    "stack_1 = {\"flask\", \"flask-admin\", \"flask-SQLAlchemy\", \"flask-login\"}\n",
    "stack_1_t = stack_1.union({\"click\", \"itsdangerous\", \"jinja2\", \"markupsafe\", \"sqlalchemy\", \"werkzeug\", \"wtforms\"})"
   ]
  },
  {
   "cell_type": "code",
   "execution_count": 2,
   "metadata": {},
   "outputs": [],
   "source": [
    "## Here the stack reflects adding a login functionality to an existing flask admin application using mongo as a backend\n",
    "\n",
    "stack_2 = {\"flask\", \"flask-admin\", \"flask-mongoengine\", \"flask-login\"}\n",
    "stack_2_t = stack_2.union({\"click\", \"flask-wtf\", \"itsdangerous\", \"jinja2\", \"markupsafe\", \"mongoengine\", \"pymongo\", \"six\", \"werkzeug\", \"wtforms\"})"
   ]
  },
  {
   "cell_type": "code",
   "execution_count": 3,
   "metadata": {},
   "outputs": [],
   "source": [
    "## Here the stack reflects using forms with sql as backend\n",
    "\n",
    "stack_3 = {\"flask\", \"flask-admin\", \"flask-SQLAlchemy\", \"WTForms\"}\n",
    "stack_3_t = stack_3.union({\"click\", \"itsdangerous\", \"jinja2\", \"markupsafe\", \"sqlalchemy\", \"werkzeug\"})"
   ]
  },
  {
   "cell_type": "code",
   "execution_count": 4,
   "metadata": {},
   "outputs": [],
   "source": [
    "## Here the stack reflects usage of pewee as database backend\n",
    "\n",
    "stack_4 = {\"flask\", \"flask-admin\", \"peewee\", \"wtf-peewee\"}\n",
    "stack_4_t = stack_4.union({\"click\", \"itsdangerous\", \"jinja2\", \"markupsafe\", \"werkzeug\", \"wtforms\"})"
   ]
  },
  {
   "cell_type": "markdown",
   "metadata": {},
   "source": [
    "#### Step 2\n",
    "\n",
    "Let's take these stacks as the ground truth and see how the model behaves\n",
    "\n",
    "- We will first take the intersection of these stacks and find the common packages\n",
    "- We then input this common stack and see the recommendations of the model. \n",
    "- We calculate how precision and recall for the packages which were left out\n",
    "- We then try to personalize the model with stack specific packages like sqlalchemy and mongoengine and see if the recommendations make sense."
   ]
  },
  {
   "cell_type": "code",
   "execution_count": 5,
   "metadata": {},
   "outputs": [],
   "source": [
    "# Let's load the model and the relevant dictionaries\n",
    "\n",
    "import pickle\n",
    "import json\n",
    "\n",
    "with open('HPF_model.pkl', 'rb') as f:\n",
    "    model = pickle.load(f)"
   ]
  },
  {
   "cell_type": "code",
   "execution_count": 6,
   "metadata": {},
   "outputs": [],
   "source": [
    "with open('manifest-to-id.pickle', 'rb') as f:\n",
    "    manifest_to_id_dict = pickle.load(f)"
   ]
  },
  {
   "cell_type": "code",
   "execution_count": 7,
   "metadata": {},
   "outputs": [],
   "source": [
    "with open('package-to-id-dict.json', 'r') as f:\n",
    "    package_to_id_dict = json.load(f)"
   ]
  },
  {
   "cell_type": "code",
   "execution_count": 8,
   "metadata": {},
   "outputs": [],
   "source": [
    "with open('id-to-package-dict.json', 'r') as f:\n",
    "    id_to_package_dict = json.load(f)"
   ]
  },
  {
   "cell_type": "code",
   "execution_count": 9,
   "metadata": {},
   "outputs": [],
   "source": [
    "# Let's perform the intersection\n",
    "\n",
    "stack_base = stack_1.intersection(stack_2).intersection(stack_3).intersection(stack_4)"
   ]
  },
  {
   "cell_type": "code",
   "execution_count": 10,
   "metadata": {},
   "outputs": [
    {
     "data": {
      "text/plain": [
       "{'flask', 'flask-admin'}"
      ]
     },
     "execution_count": 10,
     "metadata": {},
     "output_type": "execute_result"
    }
   ],
   "source": [
    "stack_base"
   ]
  },
  {
   "cell_type": "code",
   "execution_count": 11,
   "metadata": {},
   "outputs": [],
   "source": [
    "# Let's calculate the remaining packages\n",
    "\n",
    "stack_remaining = stack_1.union(stack_2).union(stack_3).union(stack_4) - stack_base"
   ]
  },
  {
   "cell_type": "code",
   "execution_count": 12,
   "metadata": {},
   "outputs": [
    {
     "data": {
      "text/plain": [
       "{'WTForms',\n",
       " 'flask-SQLAlchemy',\n",
       " 'flask-login',\n",
       " 'flask-mongoengine',\n",
       " 'peewee',\n",
       " 'wtf-peewee'}"
      ]
     },
     "execution_count": 12,
     "metadata": {},
     "output_type": "execute_result"
    }
   ],
   "source": [
    "stack_remaining"
   ]
  },
  {
   "cell_type": "code",
   "execution_count": 13,
   "metadata": {},
   "outputs": [],
   "source": [
    "from pip._vendor.distlib.util import normalize_name"
   ]
  },
  {
   "cell_type": "code",
   "execution_count": 14,
   "metadata": {},
   "outputs": [],
   "source": [
    "stack_base = {normalize_name(x) for x in stack_base}"
   ]
  },
  {
   "cell_type": "code",
   "execution_count": 15,
   "metadata": {},
   "outputs": [
    {
     "data": {
      "text/plain": [
       "{'flask', 'flask-admin'}"
      ]
     },
     "execution_count": 15,
     "metadata": {},
     "output_type": "execute_result"
    }
   ],
   "source": [
    "stack_base"
   ]
  },
  {
   "cell_type": "code",
   "execution_count": 16,
   "metadata": {},
   "outputs": [],
   "source": [
    "stack_remaining = {normalize_name(x) for x in stack_remaining}"
   ]
  },
  {
   "cell_type": "code",
   "execution_count": 17,
   "metadata": {},
   "outputs": [
    {
     "data": {
      "text/plain": [
       "{'flask-login',\n",
       " 'flask-mongoengine',\n",
       " 'flask-sqlalchemy',\n",
       " 'peewee',\n",
       " 'wtf-peewee',\n",
       " 'wtforms'}"
      ]
     },
     "execution_count": 17,
     "metadata": {},
     "output_type": "execute_result"
    }
   ],
   "source": [
    "stack_remaining"
   ]
  },
  {
   "cell_type": "code",
   "execution_count": 18,
   "metadata": {},
   "outputs": [],
   "source": [
    "# We will start with first step here\n",
    "\n",
    "stack_base = frozenset(stack_base)"
   ]
  },
  {
   "cell_type": "code",
   "execution_count": 19,
   "metadata": {},
   "outputs": [],
   "source": [
    "manifest_id = manifest_to_id_dict.get(stack_base)"
   ]
  },
  {
   "cell_type": "code",
   "execution_count": 20,
   "metadata": {},
   "outputs": [
    {
     "data": {
      "text/plain": [
       "35500"
      ]
     },
     "execution_count": 20,
     "metadata": {},
     "output_type": "execute_result"
    }
   ],
   "source": [
    "manifest_id"
   ]
  },
  {
   "cell_type": "code",
   "execution_count": 21,
   "metadata": {},
   "outputs": [],
   "source": [
    "package_id_list = [package_to_id_dict.get(x) for x in stack_base]"
   ]
  },
  {
   "cell_type": "code",
   "execution_count": 22,
   "metadata": {},
   "outputs": [
    {
     "data": {
      "text/plain": [
       "[95, 723]"
      ]
     },
     "execution_count": 22,
     "metadata": {},
     "output_type": "execute_result"
    }
   ],
   "source": [
    "package_id_list"
   ]
  },
  {
   "cell_type": "code",
   "execution_count": 23,
   "metadata": {},
   "outputs": [],
   "source": [
    "# Let's get the recommendations\n",
    "\n",
    "recommendations = model.topN(user=manifest_id, n=20)"
   ]
  },
  {
   "cell_type": "code",
   "execution_count": 24,
   "metadata": {},
   "outputs": [],
   "source": [
    "recommendations = [id_to_package_dict.get(str(x)) for x in recommendations]"
   ]
  },
  {
   "cell_type": "code",
   "execution_count": 25,
   "metadata": {},
   "outputs": [
    {
     "data": {
      "text/plain": [
       "['flask',\n",
       " 'requests',\n",
       " 'jinja2',\n",
       " 'six',\n",
       " 'markupsafe',\n",
       " 'werkzeug',\n",
       " 'itsdangerous',\n",
       " 'sqlalchemy',\n",
       " 'pyyaml',\n",
       " 'gunicorn',\n",
       " 'pytz',\n",
       " 'python-dateutil',\n",
       " 'wsgiref',\n",
       " 'mock',\n",
       " 'nose',\n",
       " 'coverage',\n",
       " 'psycopg2',\n",
       " 'flask-sqlalchemy',\n",
       " 'pytest',\n",
       " 'click']"
      ]
     },
     "execution_count": 25,
     "metadata": {},
     "output_type": "execute_result"
    }
   ],
   "source": [
    "recommendations"
   ]
  },
  {
   "cell_type": "code",
   "execution_count": 26,
   "metadata": {},
   "outputs": [],
   "source": [
    "common_package = set(recommendations).intersection(stack_remaining)"
   ]
  },
  {
   "cell_type": "code",
   "execution_count": 27,
   "metadata": {},
   "outputs": [],
   "source": [
    "# Let's add the common package to stack_base\n",
    "\n",
    "stack_base = set(stack_base)\n",
    "stack_base = stack_base.union(common_package)\n",
    "stack_base = frozenset(stack_base)"
   ]
  },
  {
   "cell_type": "markdown",
   "metadata": {},
   "source": [
    "#### Here are the observations:\n",
    "\n",
    "1. We need to train the model by removing the transitives from requirements.txt that we gather. Then and then only, we will start receiving relevant recommendations because if you closely observe the first 10-15 results are mostly transitive dependencies.\n",
    "2. Need a mechanism to deal with the popular items being recommended. Will be reading further on this."
   ]
  }
 ],
 "metadata": {
  "kernelspec": {
   "display_name": "Python 3",
   "language": "python",
   "name": "python3"
  },
  "language_info": {
   "codemirror_mode": {
    "name": "ipython",
    "version": 3
   },
   "file_extension": ".py",
   "mimetype": "text/x-python",
   "name": "python",
   "nbconvert_exporter": "python",
   "pygments_lexer": "ipython3",
   "version": "3.6.3"
  }
 },
 "nbformat": 4,
 "nbformat_minor": 2
}
