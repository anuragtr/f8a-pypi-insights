{
 "cells": [
  {
   "cell_type": "code",
   "execution_count": 1,
   "metadata": {},
   "outputs": [],
   "source": [
    "import hpfrec"
   ]
  },
  {
   "cell_type": "markdown",
   "metadata": {},
   "source": [
    "#### We train the model on 80% data. Remaining 20% we use for testing."
   ]
  },
  {
   "cell_type": "code",
   "execution_count": 25,
   "metadata": {},
   "outputs": [],
   "source": [
    "\"\"\"Fitting the model on training data, instead of validation set.\"\"\"\n",
    "recommender = hpfrec.HPF(k=30, reindex=False, stop_crit='train-llk', verbose=True, stop_thr=0.000001, maxiter=3000, random_seed=123,\n",
    "                        save_folder='~/Documents/RedHat/f8a-pypi-insights/notebooks')"
   ]
  },
  {
   "cell_type": "code",
   "execution_count": 3,
   "metadata": {},
   "outputs": [],
   "source": [
    "import pickle"
   ]
  },
  {
   "cell_type": "code",
   "execution_count": 4,
   "metadata": {},
   "outputs": [],
   "source": [
    "with open('training-data-without-trans.pkl', 'rb') as f:\n",
    "    train_df = pickle.load(f)"
   ]
  },
  {
   "cell_type": "code",
   "execution_count": 5,
   "metadata": {},
   "outputs": [],
   "source": [
    "with open('test-data-without-trans.pkl', 'rb') as f:\n",
    "    test_df = pickle.load(f)"
   ]
  },
  {
   "cell_type": "markdown",
   "metadata": {},
   "source": [
    "#### We fit the model on training data"
   ]
  },
  {
   "cell_type": "code",
   "execution_count": 26,
   "metadata": {},
   "outputs": [
    {
     "name": "stdout",
     "output_type": "stream",
     "text": [
      "**********************************\n",
      "Hierarchical Poisson Factorization\n",
      "**********************************\n",
      "\n",
      "Number of users: 66018\n",
      "Number of items: 18796\n",
      "Latent factors to use: 30\n",
      "\n",
      "Initializing parameters...\n",
      "Allocating Phi matrix...\n",
      "Initializing optimization procedure...\n",
      "Iteration 10 | train llk: -2038810 | train rmse: 0.9515\n",
      "Iteration 20 | train llk: -1944271 | train rmse: 0.9387\n",
      "Iteration 30 | train llk: -1919819 | train rmse: 0.9353\n",
      "Iteration 40 | train llk: -1909631 | train rmse: 0.9337\n",
      "Iteration 50 | train llk: -1905902 | train rmse: 0.9331\n",
      "Iteration 60 | train llk: -1903816 | train rmse: 0.9328\n",
      "Iteration 70 | train llk: -1902694 | train rmse: 0.9326\n",
      "Iteration 80 | train llk: -1901842 | train rmse: 0.9323\n",
      "Iteration 90 | train llk: -1901214 | train rmse: 0.9321\n",
      "Iteration 100 | train llk: -1900767 | train rmse: 0.9320\n",
      "Iteration 110 | train llk: -1900406 | train rmse: 0.9319\n",
      "Iteration 120 | train llk: -1900149 | train rmse: 0.9318\n",
      "Iteration 130 | train llk: -1899945 | train rmse: 0.9318\n",
      "Iteration 140 | train llk: -1899658 | train rmse: 0.9317\n",
      "Iteration 150 | train llk: -1899106 | train rmse: 0.9315\n",
      "Iteration 160 | train llk: -1898749 | train rmse: 0.9315\n",
      "Iteration 170 | train llk: -1898162 | train rmse: 0.9312\n",
      "Iteration 180 | train llk: -1897981 | train rmse: 0.9311\n",
      "Iteration 190 | train llk: -1897658 | train rmse: 0.9310\n",
      "Iteration 200 | train llk: -1897322 | train rmse: 0.9309\n",
      "Iteration 210 | train llk: -1897203 | train rmse: 0.9308\n",
      "Iteration 220 | train llk: -1897215 | train rmse: 0.9308\n",
      "\n",
      "\n",
      "Optimization finished\n",
      "Final log-likelihood: -1897215\n",
      "Final RMSE: 0.9308\n",
      "Minutes taken (optimization part): 0.9\n",
      "\n",
      "Saving final parameters to .csv files...\n"
     ]
    },
    {
     "data": {
      "text/plain": [
       "<hpfrec.HPF at 0x1244a8518>"
      ]
     },
     "execution_count": 26,
     "metadata": {},
     "output_type": "execute_result"
    }
   ],
   "source": [
    "recommender.fit(train_df)"
   ]
  },
  {
   "cell_type": "code",
   "execution_count": 7,
   "metadata": {},
   "outputs": [],
   "source": [
    "import pandas as pd\n",
    "import numpy as np"
   ]
  },
  {
   "cell_type": "markdown",
   "metadata": {},
   "source": [
    "#### Calculate recall for the trained model on test data"
   ]
  },
  {
   "cell_type": "code",
   "execution_count": 8,
   "metadata": {},
   "outputs": [],
   "source": [
    "def recall_at_m(m):\n",
    "    recall = []\n",
    "    for i in range(66018):\n",
    "        x = np.array(test_df.loc[test_df.UserId.isin([i])].ItemId)\n",
    "        l = len(x)\n",
    "        recommendations = recommender.topN(user=i, n=m, exclude_seen=True)\n",
    "        intersection_length = len(np.intersect1d(x, recommendations))\n",
    "        try:\n",
    "            recall.append({\"recall\": intersection_length/l, \"length\": l, \"user\": i})\n",
    "        except ZeroDivisionError as e:\n",
    "            pass\n",
    "    \n",
    "    recall_df = pd.DataFrame(recall, index=None)\n",
    "    return recall_df['recall'].mean()"
   ]
  },
  {
   "cell_type": "code",
   "execution_count": 27,
   "metadata": {},
   "outputs": [
    {
     "data": {
      "text/plain": [
       "0.4187862138325263"
      ]
     },
     "execution_count": 27,
     "metadata": {},
     "output_type": "execute_result"
    }
   ],
   "source": [
    "recall_at_m(50)"
   ]
  },
  {
   "cell_type": "code",
   "execution_count": 10,
   "metadata": {},
   "outputs": [
    {
     "data": {
      "text/plain": [
       "0.531125868568053"
      ]
     },
     "execution_count": 10,
     "metadata": {},
     "output_type": "execute_result"
    }
   ],
   "source": [
    "recall_at_m(100)"
   ]
  },
  {
   "cell_type": "code",
   "execution_count": 11,
   "metadata": {},
   "outputs": [
    {
     "data": {
      "text/plain": [
       "0.6367153485518058"
      ]
     },
     "execution_count": 11,
     "metadata": {},
     "output_type": "execute_result"
    }
   ],
   "source": [
    "recall_at_m(200)"
   ]
  },
  {
   "cell_type": "code",
   "execution_count": 12,
   "metadata": {},
   "outputs": [
    {
     "data": {
      "text/plain": [
       "0.6951519550672638"
      ]
     },
     "execution_count": 12,
     "metadata": {},
     "output_type": "execute_result"
    }
   ],
   "source": [
    "recall_at_m(300)"
   ]
  },
  {
   "cell_type": "code",
   "execution_count": 13,
   "metadata": {},
   "outputs": [],
   "source": [
    "import pickle"
   ]
  },
  {
   "cell_type": "code",
   "execution_count": 14,
   "metadata": {},
   "outputs": [],
   "source": [
    "\"\"\"Save the model\"\"\"\n",
    "recommender.step_size = None\n",
    "with open('HPF_model_without_trans.pkl', 'wb') as f:\n",
    "    pickle.dump(recommender, f)"
   ]
  },
  {
   "cell_type": "code",
   "execution_count": 15,
   "metadata": {},
   "outputs": [],
   "source": [
    "with open('HPF_model_without_trans.pkl', 'rb') as f:\n",
    "    recommender = pickle.load(f)"
   ]
  },
  {
   "cell_type": "markdown",
   "metadata": {},
   "source": [
    "#### We will do some common sense checks here to see if we trained the model correctly. To do that, predictions should:\n",
    "\n",
    "1. Be higher for this non-zero hold-out sample than for random items.\n",
    "2. Produce a good discrimination between random items and those in the hold-out sample (very related to the first point).\n",
    "3. Be correlated with the playcounts in the hold-out sample.\n",
    "4. Follow an exponential distribution rather than a normal or some other symmetric distribution."
   ]
  },
  {
   "cell_type": "code",
   "execution_count": 16,
   "metadata": {},
   "outputs": [],
   "source": [
    "import numpy as np"
   ]
  },
  {
   "cell_type": "code",
   "execution_count": 28,
   "metadata": {},
   "outputs": [
    {
     "name": "stdout",
     "output_type": "stream",
     "text": [
      "Average prediction for combinations in test set:  0.043578032\n",
      "Average prediction for random combinations:  0.02935503\n"
     ]
    }
   ],
   "source": [
    "test_df['Predicted'] = recommender.predict(user=test_df.UserId, item=test_df.ItemId)\n",
    "test_df['RandomItem'] = np.random.choice(train_df.ItemId, size=test_df.shape[0])\n",
    "test_df['PredictedRandom'] = recommender.predict(user=test_df.UserId, item=test_df.RandomItem)\n",
    "print(\"Average prediction for combinations in test set: \", test_df.Predicted.mean())\n",
    "print(\"Average prediction for random combinations: \", test_df.PredictedRandom.mean())"
   ]
  },
  {
   "cell_type": "code",
   "execution_count": 18,
   "metadata": {},
   "outputs": [
    {
     "data": {
      "text/plain": [
       "0.594698111233428"
      ]
     },
     "execution_count": 18,
     "metadata": {},
     "output_type": "execute_result"
    }
   ],
   "source": [
    "from sklearn.metrics import roc_auc_score\n",
    "\n",
    "was_played = np.r_[np.ones(test_df.shape[0]), np.zeros(test_df.shape[0])]\n",
    "score_model = np.r_[test_df.Predicted.values, test_df.PredictedRandom.values]\n",
    "roc_auc_score(was_played, score_model)"
   ]
  },
  {
   "cell_type": "code",
   "execution_count": 19,
   "metadata": {},
   "outputs": [
    {
     "name": "stderr",
     "output_type": "stream",
     "text": [
      "/Users/aagamshah/anaconda3/lib/python3.6/site-packages/numpy/lib/function_base.py:2530: RuntimeWarning: invalid value encountered in true_divide\n",
      "  c /= stddev[:, None]\n",
      "/Users/aagamshah/anaconda3/lib/python3.6/site-packages/numpy/lib/function_base.py:2531: RuntimeWarning: invalid value encountered in true_divide\n",
      "  c /= stddev[None, :]\n"
     ]
    },
    {
     "data": {
      "text/plain": [
       "nan"
      ]
     },
     "execution_count": 19,
     "metadata": {},
     "output_type": "execute_result"
    }
   ],
   "source": [
    "# This is nan, because predict is bound to provide NaN values\n",
    "np.corrcoef(test_df.Count, test_df.Predicted)[0,1]"
   ]
  },
  {
   "cell_type": "code",
   "execution_count": 20,
   "metadata": {},
   "outputs": [
    {
     "data": {
      "image/png": "[encoded data removed]",
      "text/plain": [
       "<Figure size 432x288 with 1 Axes>"
      ]
     },
     "metadata": {},
     "output_type": "display_data"
    }
   ],
   "source": [
    "import matplotlib.pyplot as plt\n",
    "%matplotlib inline\n",
    "\n",
    "_ = plt.hist(test_df.Predicted, bins=80)\n",
    "plt.xlim(0,5)\n",
    "plt.show()"
   ]
  },
  {
   "cell_type": "code",
   "execution_count": null,
   "metadata": {},
   "outputs": [],
   "source": []
  }
 ],
 "metadata": {
  "kernelspec": {
   "display_name": "Python 3",
   "language": "python",
   "name": "python3"
  },
  "language_info": {
   "codemirror_mode": {
    "name": "ipython",
    "version": 3
   },
   "file_extension": ".py",
   "mimetype": "text/x-python",
   "name": "python",
   "nbconvert_exporter": "python",
   "pygments_lexer": "ipython3",
   "version": "3.6.3"
  }
 },
 "nbformat": 4,
 "nbformat_minor": 2
}
